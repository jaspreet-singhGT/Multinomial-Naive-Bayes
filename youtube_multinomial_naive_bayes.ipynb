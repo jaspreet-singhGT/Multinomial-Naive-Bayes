{
 "cells": [
  {
   "attachments": {
    "image.png": {
     "image/png": "[encoded data removed]"
    }
   },
   "cell_type": "markdown",
   "metadata": {},
   "source": [
    "![image.png](attachment:image.png)\n"
   ]
  },
  {
   "cell_type": "markdown",
   "metadata": {},
   "source": [
    "# Multinomial Naive Bayes\n"
   ]
  },
  {
   "cell_type": "code",
   "execution_count": 33,
   "metadata": {},
   "outputs": [],
   "source": [
    "import numpy as np\n",
    "#from sklearn.naive_bayes import MultinomialNB\n",
    "\n",
    "import pandas as pd\n",
    "\n",
    "df = pd.read_csv('first_batch.csv')\n"
   ]
  },
  {
   "cell_type": "code",
   "execution_count": 18,
   "metadata": {},
   "outputs": [
    {
     "data": {
      "text/html": [
       "<div>\n",
       "<style scoped>\n",
       "    .dataframe tbody tr th:only-of-type {\n",
       "        vertical-align: middle;\n",
       "    }\n",
       "\n",
       "    .dataframe tbody tr th {\n",
       "        vertical-align: top;\n",
       "    }\n",
       "\n",
       "    .dataframe thead th {\n",
       "        text-align: right;\n",
       "    }\n",
       "</style>\n",
       "<table border=\"1\" class=\"dataframe\">\n",
       "  <thead>\n",
       "    <tr style=\"text-align: right;\">\n",
       "      <th></th>\n",
       "      <th>Unnamed: 0</th>\n",
       "      <th>TITLE</th>\n",
       "      <th>URL</th>\n",
       "      <th>PUBLISHER</th>\n",
       "      <th>CATEGORY</th>\n",
       "      <th>STORY</th>\n",
       "      <th>HOSTNAME</th>\n",
       "      <th>TIMESTAMP</th>\n",
       "    </tr>\n",
       "  </thead>\n",
       "  <tbody>\n",
       "    <tr>\n",
       "      <th>0</th>\n",
       "      <td>0</td>\n",
       "      <td>Fed official says weak data caused by weather,...</td>\n",
       "      <td>http://www.latimes.com/business/money/la-fi-mo...</td>\n",
       "      <td>Los Angeles Times</td>\n",
       "      <td>b</td>\n",
       "      <td>ddUyU0VZz0BRneMioxUPQVP6sIxvM</td>\n",
       "      <td>www.latimes.com</td>\n",
       "      <td>1.390000e+12</td>\n",
       "    </tr>\n",
       "    <tr>\n",
       "      <th>1</th>\n",
       "      <td>1</td>\n",
       "      <td>Fed's Charles Plosser sees high bar for change...</td>\n",
       "      <td>http://www.livemint.com/Politics/H2EvwJSK2VE6O...</td>\n",
       "      <td>Livemint</td>\n",
       "      <td>b</td>\n",
       "      <td>ddUyU0VZz0BRneMioxUPQVP6sIxvM</td>\n",
       "      <td>www.livemint.com</td>\n",
       "      <td>1.390000e+12</td>\n",
       "    </tr>\n",
       "    <tr>\n",
       "      <th>2</th>\n",
       "      <td>2</td>\n",
       "      <td>US open: Stocks fall after Fed official hints ...</td>\n",
       "      <td>http://www.ifamagazine.com/news/us-open-stocks...</td>\n",
       "      <td>IFA Magazine</td>\n",
       "      <td>b</td>\n",
       "      <td>ddUyU0VZz0BRneMioxUPQVP6sIxvM</td>\n",
       "      <td>www.ifamagazine.com</td>\n",
       "      <td>1.390000e+12</td>\n",
       "    </tr>\n",
       "    <tr>\n",
       "      <th>3</th>\n",
       "      <td>3</td>\n",
       "      <td>Fed risks falling 'behind the curve', Charles ...</td>\n",
       "      <td>http://www.ifamagazine.com/news/fed-risks-fall...</td>\n",
       "      <td>IFA Magazine</td>\n",
       "      <td>b</td>\n",
       "      <td>ddUyU0VZz0BRneMioxUPQVP6sIxvM</td>\n",
       "      <td>www.ifamagazine.com</td>\n",
       "      <td>1.390000e+12</td>\n",
       "    </tr>\n",
       "    <tr>\n",
       "      <th>4</th>\n",
       "      <td>4</td>\n",
       "      <td>Fed's Plosser: Nasty Weather Has Curbed Job Gr...</td>\n",
       "      <td>http://www.moneynews.com/Economy/federal-reser...</td>\n",
       "      <td>Moneynews</td>\n",
       "      <td>b</td>\n",
       "      <td>ddUyU0VZz0BRneMioxUPQVP6sIxvM</td>\n",
       "      <td>www.moneynews.com</td>\n",
       "      <td>1.390000e+12</td>\n",
       "    </tr>\n",
       "    <tr>\n",
       "      <th>...</th>\n",
       "      <td>...</td>\n",
       "      <td>...</td>\n",
       "      <td>...</td>\n",
       "      <td>...</td>\n",
       "      <td>...</td>\n",
       "      <td>...</td>\n",
       "      <td>...</td>\n",
       "      <td>...</td>\n",
       "    </tr>\n",
       "    <tr>\n",
       "      <th>60</th>\n",
       "      <td>60</td>\n",
       "      <td>GM recalls another 2.4M vehicles for belts, ba...</td>\n",
       "      <td>http://www.usatoday.com/story/money/cars/2014/...</td>\n",
       "      <td>USA TODAY</td>\n",
       "      <td>t</td>\n",
       "      <td>dlM9gF_cqok-hPMsoTxBgF_NUJ3PM</td>\n",
       "      <td>www.usatoday.com</td>\n",
       "      <td>1.400000e+12</td>\n",
       "    </tr>\n",
       "    <tr>\n",
       "      <th>61</th>\n",
       "      <td>61</td>\n",
       "      <td>Business update: Parade of GM recalls rolls on...</td>\n",
       "      <td>http://www.indeonline.com/article/20140520/NEW...</td>\n",
       "      <td>Massillon Independent</td>\n",
       "      <td>t</td>\n",
       "      <td>dlM9gF_cqok-hPMsoTxBgF_NUJ3PM</td>\n",
       "      <td>www.indeonline.com</td>\n",
       "      <td>1.400000e+12</td>\n",
       "    </tr>\n",
       "    <tr>\n",
       "      <th>62</th>\n",
       "      <td>62</td>\n",
       "      <td>GM keeps recalling vehicles</td>\n",
       "      <td>http://www.shanghaidaily.com/article/article_x...</td>\n",
       "      <td>Shanghai Daily \\(subscription\\)</td>\n",
       "      <td>t</td>\n",
       "      <td>dlM9gF_cqok-hPMsoTxBgF_NUJ3PM</td>\n",
       "      <td>www.shanghaidaily.com</td>\n",
       "      <td>1.400000e+12</td>\n",
       "    </tr>\n",
       "    <tr>\n",
       "      <th>63</th>\n",
       "      <td>63</td>\n",
       "      <td>More GM recalls</td>\n",
       "      <td>http://www.cbc.ca/news/business/new-gm-recall-...</td>\n",
       "      <td>CBC.ca</td>\n",
       "      <td>t</td>\n",
       "      <td>dlM9gF_cqok-hPMsoTxBgF_NUJ3PM</td>\n",
       "      <td>www.cbc.ca</td>\n",
       "      <td>1.400000e+12</td>\n",
       "    </tr>\n",
       "    <tr>\n",
       "      <th>64</th>\n",
       "      <td>64</td>\n",
       "      <td>10 largest GM recalls this year</td>\n",
       "      <td>http://thegardenisland.com/news/national/large...</td>\n",
       "      <td>Thegardenisland.com</td>\n",
       "      <td>t</td>\n",
       "      <td>dlM9gF_cqok-hPMsoTxBgF_NUJ3PM</td>\n",
       "      <td>thegardenisland.com</td>\n",
       "      <td>1.400000e+12</td>\n",
       "    </tr>\n",
       "  </tbody>\n",
       "</table>\n",
       "<p>65 rows × 8 columns</p>\n",
       "</div>"
      ],
      "text/plain": [
       "    Unnamed: 0                                              TITLE  \\\n",
       "0            0  Fed official says weak data caused by weather,...   \n",
       "1            1  Fed's Charles Plosser sees high bar for change...   \n",
       "2            2  US open: Stocks fall after Fed official hints ...   \n",
       "3            3  Fed risks falling 'behind the curve', Charles ...   \n",
       "4            4  Fed's Plosser: Nasty Weather Has Curbed Job Gr...   \n",
       "..         ...                                                ...   \n",
       "60          60  GM recalls another 2.4M vehicles for belts, ba...   \n",
       "61          61  Business update: Parade of GM recalls rolls on...   \n",
       "62          62                        GM keeps recalling vehicles   \n",
       "63          63                                    More GM recalls   \n",
       "64          64                    10 largest GM recalls this year   \n",
       "\n",
       "                                                  URL  \\\n",
       "0   http://www.latimes.com/business/money/la-fi-mo...   \n",
       "1   http://www.livemint.com/Politics/H2EvwJSK2VE6O...   \n",
       "2   http://www.ifamagazine.com/news/us-open-stocks...   \n",
       "3   http://www.ifamagazine.com/news/fed-risks-fall...   \n",
       "4   http://www.moneynews.com/Economy/federal-reser...   \n",
       "..                                                ...   \n",
       "60  http://www.usatoday.com/story/money/cars/2014/...   \n",
       "61  http://www.indeonline.com/article/20140520/NEW...   \n",
       "62  http://www.shanghaidaily.com/article/article_x...   \n",
       "63  http://www.cbc.ca/news/business/new-gm-recall-...   \n",
       "64  http://thegardenisland.com/news/national/large...   \n",
       "\n",
       "                          PUBLISHER CATEGORY                          STORY  \\\n",
       "0                 Los Angeles Times        b  ddUyU0VZz0BRneMioxUPQVP6sIxvM   \n",
       "1                          Livemint        b  ddUyU0VZz0BRneMioxUPQVP6sIxvM   \n",
       "2                      IFA Magazine        b  ddUyU0VZz0BRneMioxUPQVP6sIxvM   \n",
       "3                      IFA Magazine        b  ddUyU0VZz0BRneMioxUPQVP6sIxvM   \n",
       "4                         Moneynews        b  ddUyU0VZz0BRneMioxUPQVP6sIxvM   \n",
       "..                              ...      ...                            ...   \n",
       "60                        USA TODAY        t  dlM9gF_cqok-hPMsoTxBgF_NUJ3PM   \n",
       "61            Massillon Independent        t  dlM9gF_cqok-hPMsoTxBgF_NUJ3PM   \n",
       "62  Shanghai Daily \\(subscription\\)        t  dlM9gF_cqok-hPMsoTxBgF_NUJ3PM   \n",
       "63                           CBC.ca        t  dlM9gF_cqok-hPMsoTxBgF_NUJ3PM   \n",
       "64              Thegardenisland.com        t  dlM9gF_cqok-hPMsoTxBgF_NUJ3PM   \n",
       "\n",
       "                 HOSTNAME     TIMESTAMP  \n",
       "0         www.latimes.com  1.390000e+12  \n",
       "1        www.livemint.com  1.390000e+12  \n",
       "2     www.ifamagazine.com  1.390000e+12  \n",
       "3     www.ifamagazine.com  1.390000e+12  \n",
       "4       www.moneynews.com  1.390000e+12  \n",
       "..                    ...           ...  \n",
       "60       www.usatoday.com  1.400000e+12  \n",
       "61     www.indeonline.com  1.400000e+12  \n",
       "62  www.shanghaidaily.com  1.400000e+12  \n",
       "63             www.cbc.ca  1.400000e+12  \n",
       "64    thegardenisland.com  1.400000e+12  \n",
       "\n",
       "[65 rows x 8 columns]"
      ]
     },
     "execution_count": 18,
     "metadata": {},
     "output_type": "execute_result"
    }
   ],
   "source": [
    "df\n"
   ]
  },
  {
   "cell_type": "code",
   "execution_count": null,
   "metadata": {},
   "outputs": [
    {
     "data": {
      "text/plain": [
       "e    32\n",
       "t    22\n",
       "b    11\n",
       "Name: CATEGORY, dtype: int64"
      ]
     },
     "execution_count": 8,
     "metadata": {},
     "output_type": "execute_result"
    }
   ],
   "source": [
    "df['CATEGORY'].value_counts()  # b- business, t- technology, e-entertainment\n"
   ]
  },
  {
   "attachments": {
    "image.png": {
     "image/png": "[encoded data removed]"
    }
   },
   "cell_type": "markdown",
   "metadata": {},
   "source": [
    "![image.png](attachment:image.png)\n"
   ]
  },
  {
   "cell_type": "markdown",
   "metadata": {},
   "source": [
    "# Basics of NLP\n"
   ]
  },
  {
   "cell_type": "code",
   "execution_count": 2,
   "metadata": {},
   "outputs": [
    {
     "name": "stdout",
     "output_type": "stream",
     "text": [
      "['Piford', 'Technologies', 'is', 'a', 'Software', 'Development', 'company', '.', 'Piford', 'also', 'provide', 'trainings', '.']\n"
     ]
    }
   ],
   "source": [
    "import nltk\n",
    "# nltk.download()\n",
    "from nltk import word_tokenize\n",
    "\n",
    "data = \"Piford Technologies is a Software Development company. Piford also provide trainings.\"\n",
    "print(word_tokenize(data))\n"
   ]
  },
  {
   "cell_type": "code",
   "execution_count": 3,
   "metadata": {},
   "outputs": [
    {
     "name": "stdout",
     "output_type": "stream",
     "text": [
      "{'were', 'above', 'until', 'under', 'your', 'then', 'mightn', 'just', 'are', 't', 'i', 'as', 'isn', 'themselves', 'not', 'each', 'haven', 'we', 'my', 'doesn', 'only', 'other', 've', \"it's\", 'too', 'her', 'down', 'has', 'weren', \"isn't\", 'at', \"won't\", 'from', 'myself', 'aren', 'yourselves', 'them', 'herself', 'what', 'no', 'doing', 'the', 'y', 'in', 'but', \"mustn't\", 'me', \"you'll\", 'ma', 'through', 'where', \"you're\", 'further', 'wouldn', 'was', 'and', 'on', \"wasn't\", 'being', 'his', 'all', 'ourselves', 'some', \"doesn't\", 'yourself', 'below', 'ours', 'theirs', 'don', 'itself', 'you', 'few', 'how', 'do', 'most', \"aren't\", 'against', 'am', 'to', 'over', 'll', 'which', 'of', 'with', \"hasn't\", 'same', 'any', 'during', 'it', 'an', \"shan't\", 'should', 'will', 'hers', 'up', \"she's\", 'if', \"shouldn't\", 'so', 'o', \"hadn't\", 'mustn', 'before', 'such', 'hasn', 'yours', 'than', 'he', 'there', 'been', 'or', 'have', 'whom', 'off', 'didn', 'm', 'is', 'both', 'she', 'be', 'because', 'now', \"wouldn't\", 'a', 'wasn', 'their', 'own', 'nor', 'having', 'him', 'after', 'out', 'very', 'can', \"didn't\", 'they', 'd', \"mightn't\", 'more', 'into', 'needn', \"you'd\", 'by', 'again', 'these', 'why', 'those', 're', 'for', 'once', 'between', \"should've\", \"you've\", 'won', 'its', 'that', 'himself', \"weren't\", \"needn't\", 'couldn', 'had', 'about', \"that'll\", 'when', 'hadn', 'while', 'ain', \"couldn't\", 'who', 'does', 'did', 'shan', 'this', \"haven't\", 'shouldn', 's', 'here', \"don't\", 'our'}\n"
     ]
    }
   ],
   "source": [
    "from nltk.corpus import stopwords\n",
    "\n",
    "stopWords = set(stopwords.words('english'))\n",
    "print(stopWords)\n"
   ]
  },
  {
   "attachments": {
    "image.png": {
     "image/png": "[encoded data removed]"
    }
   },
   "cell_type": "markdown",
   "metadata": {},
   "source": [
    "![image.png](attachment:image.png)\n"
   ]
  },
  {
   "cell_type": "code",
   "execution_count": 9,
   "metadata": {},
   "outputs": [
    {
     "name": "stdout",
     "output_type": "stream",
     "text": [
      "['P', 'i', 'f', 'o', 'r', 'd', 's', ' ', 'T', 'e', 'c', 'h', 'n', 'o', 'l', 'o', 'g', 'i', 'e', 's', ' ', 'P', 'i', 'f', 'o', 'r', 'd', ' ', 'i', 's', ' ', 'i', 'n', ' ', 'M', 'o', 'h', 'a', 'l', 'i', ' ']\n"
     ]
    }
   ],
   "source": [
    "import string\n",
    "data = \"Piford's Technologies, Piford is in Mohali !.\"\n",
    "data_1 = [char for char in data if char not in string.punctuation]\n",
    "print(data_1)\n"
   ]
  },
  {
   "cell_type": "code",
   "execution_count": 10,
   "metadata": {},
   "outputs": [
    {
     "name": "stdout",
     "output_type": "stream",
     "text": [
      "Pifords Technologies Piford is in Mohali \n"
     ]
    }
   ],
   "source": [
    "data_1 = ''.join(data_1)\n",
    "print(data_1)\n"
   ]
  },
  {
   "cell_type": "code",
   "execution_count": 11,
   "metadata": {},
   "outputs": [
    {
     "name": "stdout",
     "output_type": "stream",
     "text": [
      "['Pifords', 'Technologies', 'Piford', 'is', 'in', 'Mohali']\n"
     ]
    }
   ],
   "source": [
    "data_1 = data_1.split()  # word_tokenize(data)\n",
    "print(data_1)\n"
   ]
  },
  {
   "attachments": {
    "image.png": {
     "image/png": "[encoded data removed]"
    }
   },
   "cell_type": "markdown",
   "metadata": {},
   "source": [
    "![image.png](attachment:image.png)\n"
   ]
  },
  {
   "cell_type": "code",
   "execution_count": 13,
   "metadata": {},
   "outputs": [
    {
     "name": "stdout",
     "output_type": "stream",
     "text": [
      "{'piford': 3, 'technologies': 4, 'is': 1, 'in': 0, 'mohali': 2}\n"
     ]
    }
   ],
   "source": [
    "from sklearn.feature_extraction.text import CountVectorizer\n",
    "data_1 = [\"Piford Technologies Piford is in Mohali.\"]\n",
    "\n",
    "# create the transform\n",
    "vectorizer = CountVectorizer()\n",
    "\n",
    "vectorizer.fit(data_1)\n",
    "\n",
    "\n",
    "print(vectorizer.vocabulary_)\n"
   ]
  },
  {
   "cell_type": "code",
   "execution_count": 14,
   "metadata": {},
   "outputs": [
    {
     "name": "stdout",
     "output_type": "stream",
     "text": [
      "  (0, 0)\t1\n",
      "  (0, 1)\t1\n",
      "  (0, 2)\t1\n",
      "  (0, 3)\t2\n",
      "  (0, 4)\t1\n"
     ]
    }
   ],
   "source": [
    "\"\"\"encode document\"\"\"\n",
    "vector = vectorizer.transform(data_1)\n",
    "print(vector)\n"
   ]
  },
  {
   "cell_type": "code",
   "execution_count": 15,
   "metadata": {},
   "outputs": [],
   "source": [
    "def text_cleaning(a):\n",
    "    remove_punctuation = [char for char in a if char not in string.punctuation]\n",
    "    # print(remove_punctuation)\n",
    "    remove_punctuation = ''.join(remove_punctuation)\n",
    "    # print(remove_punctuation)\n",
    "    return [word for word in remove_punctuation.split() if word.lower() not in stopwords.words('english')]\n"
   ]
  },
  {
   "cell_type": "code",
   "execution_count": 19,
   "metadata": {
    "scrolled": true
   },
   "outputs": [
    {
     "data": {
      "text/html": [
       "<div>\n",
       "<style scoped>\n",
       "    .dataframe tbody tr th:only-of-type {\n",
       "        vertical-align: middle;\n",
       "    }\n",
       "\n",
       "    .dataframe tbody tr th {\n",
       "        vertical-align: top;\n",
       "    }\n",
       "\n",
       "    .dataframe thead th {\n",
       "        text-align: right;\n",
       "    }\n",
       "</style>\n",
       "<table border=\"1\" class=\"dataframe\">\n",
       "  <thead>\n",
       "    <tr style=\"text-align: right;\">\n",
       "      <th></th>\n",
       "      <th>Unnamed: 0</th>\n",
       "      <th>TITLE</th>\n",
       "      <th>URL</th>\n",
       "      <th>PUBLISHER</th>\n",
       "      <th>CATEGORY</th>\n",
       "      <th>STORY</th>\n",
       "      <th>HOSTNAME</th>\n",
       "      <th>TIMESTAMP</th>\n",
       "    </tr>\n",
       "  </thead>\n",
       "  <tbody>\n",
       "    <tr>\n",
       "      <th>0</th>\n",
       "      <td>0</td>\n",
       "      <td>Fed official says weak data caused by weather,...</td>\n",
       "      <td>http://www.latimes.com/business/money/la-fi-mo...</td>\n",
       "      <td>Los Angeles Times</td>\n",
       "      <td>b</td>\n",
       "      <td>ddUyU0VZz0BRneMioxUPQVP6sIxvM</td>\n",
       "      <td>www.latimes.com</td>\n",
       "      <td>1.390000e+12</td>\n",
       "    </tr>\n",
       "    <tr>\n",
       "      <th>1</th>\n",
       "      <td>1</td>\n",
       "      <td>Fed's Charles Plosser sees high bar for change...</td>\n",
       "      <td>http://www.livemint.com/Politics/H2EvwJSK2VE6O...</td>\n",
       "      <td>Livemint</td>\n",
       "      <td>b</td>\n",
       "      <td>ddUyU0VZz0BRneMioxUPQVP6sIxvM</td>\n",
       "      <td>www.livemint.com</td>\n",
       "      <td>1.390000e+12</td>\n",
       "    </tr>\n",
       "    <tr>\n",
       "      <th>2</th>\n",
       "      <td>2</td>\n",
       "      <td>US open: Stocks fall after Fed official hints ...</td>\n",
       "      <td>http://www.ifamagazine.com/news/us-open-stocks...</td>\n",
       "      <td>IFA Magazine</td>\n",
       "      <td>b</td>\n",
       "      <td>ddUyU0VZz0BRneMioxUPQVP6sIxvM</td>\n",
       "      <td>www.ifamagazine.com</td>\n",
       "      <td>1.390000e+12</td>\n",
       "    </tr>\n",
       "    <tr>\n",
       "      <th>3</th>\n",
       "      <td>3</td>\n",
       "      <td>Fed risks falling 'behind the curve', Charles ...</td>\n",
       "      <td>http://www.ifamagazine.com/news/fed-risks-fall...</td>\n",
       "      <td>IFA Magazine</td>\n",
       "      <td>b</td>\n",
       "      <td>ddUyU0VZz0BRneMioxUPQVP6sIxvM</td>\n",
       "      <td>www.ifamagazine.com</td>\n",
       "      <td>1.390000e+12</td>\n",
       "    </tr>\n",
       "    <tr>\n",
       "      <th>4</th>\n",
       "      <td>4</td>\n",
       "      <td>Fed's Plosser: Nasty Weather Has Curbed Job Gr...</td>\n",
       "      <td>http://www.moneynews.com/Economy/federal-reser...</td>\n",
       "      <td>Moneynews</td>\n",
       "      <td>b</td>\n",
       "      <td>ddUyU0VZz0BRneMioxUPQVP6sIxvM</td>\n",
       "      <td>www.moneynews.com</td>\n",
       "      <td>1.390000e+12</td>\n",
       "    </tr>\n",
       "  </tbody>\n",
       "</table>\n",
       "</div>"
      ],
      "text/plain": [
       "   Unnamed: 0                                              TITLE  \\\n",
       "0           0  Fed official says weak data caused by weather,...   \n",
       "1           1  Fed's Charles Plosser sees high bar for change...   \n",
       "2           2  US open: Stocks fall after Fed official hints ...   \n",
       "3           3  Fed risks falling 'behind the curve', Charles ...   \n",
       "4           4  Fed's Plosser: Nasty Weather Has Curbed Job Gr...   \n",
       "\n",
       "                                                 URL          PUBLISHER  \\\n",
       "0  http://www.latimes.com/business/money/la-fi-mo...  Los Angeles Times   \n",
       "1  http://www.livemint.com/Politics/H2EvwJSK2VE6O...           Livemint   \n",
       "2  http://www.ifamagazine.com/news/us-open-stocks...       IFA Magazine   \n",
       "3  http://www.ifamagazine.com/news/fed-risks-fall...       IFA Magazine   \n",
       "4  http://www.moneynews.com/Economy/federal-reser...          Moneynews   \n",
       "\n",
       "  CATEGORY                          STORY             HOSTNAME     TIMESTAMP  \n",
       "0        b  ddUyU0VZz0BRneMioxUPQVP6sIxvM      www.latimes.com  1.390000e+12  \n",
       "1        b  ddUyU0VZz0BRneMioxUPQVP6sIxvM     www.livemint.com  1.390000e+12  \n",
       "2        b  ddUyU0VZz0BRneMioxUPQVP6sIxvM  www.ifamagazine.com  1.390000e+12  \n",
       "3        b  ddUyU0VZz0BRneMioxUPQVP6sIxvM  www.ifamagazine.com  1.390000e+12  \n",
       "4        b  ddUyU0VZz0BRneMioxUPQVP6sIxvM    www.moneynews.com  1.390000e+12  "
      ]
     },
     "execution_count": 19,
     "metadata": {},
     "output_type": "execute_result"
    }
   ],
   "source": [
    "df.head()\n"
   ]
  },
  {
   "cell_type": "code",
   "execution_count": 22,
   "metadata": {},
   "outputs": [
    {
     "name": "stdout",
     "output_type": "stream",
     "text": [
      "0     [Fed, official, says, weak, data, caused, weat...\n",
      "1     [Feds, Charles, Plosser, sees, high, bar, chan...\n",
      "2     [US, open, Stocks, fall, Fed, official, hints,...\n",
      "3     [Fed, risks, falling, behind, curve, Charles, ...\n",
      "4     [Feds, Plosser, Nasty, Weather, Curbed, Job, G...\n",
      "                            ...                        \n",
      "60    [GM, recalls, another, 24M, vehicles, belts, b...\n",
      "61    [Business, update, Parade, GM, recalls, rolls,...\n",
      "62                     [GM, keeps, recalling, vehicles]\n",
      "63                                        [GM, recalls]\n",
      "64                     [10, largest, GM, recalls, year]\n",
      "Name: TITLE, Length: 65, dtype: object\n"
     ]
    }
   ],
   "source": [
    "# data after removing punctuation and stop words\n",
    "print(df.iloc[:, 1].apply(text_cleaning))\n"
   ]
  },
  {
   "attachments": {
    "image.png": {
     "image/png": "[encoded data removed]"
    }
   },
   "cell_type": "markdown",
   "metadata": {},
   "source": [
    "![image.png](attachment:image.png)\n"
   ]
  },
  {
   "cell_type": "code",
   "execution_count": 24,
   "metadata": {},
   "outputs": [
    {
     "data": {
      "text/plain": [
       "{'Fed': 61,\n",
       " 'official': 202,\n",
       " 'says': 221,\n",
       " 'weak': 243,\n",
       " 'data': 171,\n",
       " 'caused': 167,\n",
       " 'weather': 244,\n",
       " 'slow': 224,\n",
       " 'taper': 229,\n",
       " 'Feds': 62,\n",
       " 'Charles': 38,\n",
       " 'Plosser': 109,\n",
       " 'sees': 222,\n",
       " 'high': 183,\n",
       " 'bar': 160,\n",
       " 'change': 168,\n",
       " 'pace': 205,\n",
       " 'tapering': 230,\n",
       " 'US': 141,\n",
       " 'open': 203,\n",
       " 'Stocks': 131,\n",
       " 'fall': 176,\n",
       " 'hints': 184,\n",
       " 'accelerated': 155,\n",
       " 'risks': 219,\n",
       " 'falling': 177,\n",
       " 'behind': 162,\n",
       " 'curve': 170,\n",
       " 'Nasty': 96,\n",
       " 'Weather': 147,\n",
       " 'Curbed': 45,\n",
       " 'Job': 81,\n",
       " 'Growth': 73,\n",
       " 'May': 86,\n",
       " 'Accelerate': 18,\n",
       " 'Tapering': 136,\n",
       " 'Pace': 104,\n",
       " 'Taper': 135,\n",
       " 'may': 195,\n",
       " 'expects': 175,\n",
       " 'unemployment': 236,\n",
       " '62': 14,\n",
       " 'end': 174,\n",
       " '2014': 4,\n",
       " 'jobs': 190,\n",
       " 'growth': 182,\n",
       " 'last': 193,\n",
       " 'month': 197,\n",
       " 'hit': 185,\n",
       " 'weatherFed': 245,\n",
       " 'President': 113,\n",
       " 'ECB': 54,\n",
       " 'unlikely': 237,\n",
       " 'sterilisation': 225,\n",
       " 'SMP': 121,\n",
       " 'purchases': 207,\n",
       " 'traders': 235,\n",
       " 'sterilization': 226,\n",
       " 'Box': 32,\n",
       " 'Office': 102,\n",
       " 'XMen': 153,\n",
       " 'Days': 50,\n",
       " 'Future': 68,\n",
       " 'Past': 106,\n",
       " 'Nabs': 95,\n",
       " '261M': 11,\n",
       " 'Worldwide': 150,\n",
       " 'Debut': 51,\n",
       " 'Mania': 85,\n",
       " 'Report': 119,\n",
       " 'FUTURE': 59,\n",
       " 'RULES': 115,\n",
       " 'Believe': 24,\n",
       " 'Christian': 41,\n",
       " 'theme': 231,\n",
       " 'Review': 120,\n",
       " '–': 251,\n",
       " 'Sequel': 124,\n",
       " 'Prequel': 112,\n",
       " 'Reboot': 116,\n",
       " 'Numbers': 99,\n",
       " 'Slay': 127,\n",
       " 'Godzilla': 72,\n",
       " '7': 15,\n",
       " 'hours': 187,\n",
       " 'ago': 157,\n",
       " 'dominates': 173,\n",
       " 'holiday': 186,\n",
       " 'box': 166,\n",
       " 'office': 201,\n",
       " '91M': 17,\n",
       " 'Memorial': 87,\n",
       " 'Day': 49,\n",
       " 'weekend': 246,\n",
       " 'movie': 198,\n",
       " '“Days': 252,\n",
       " 'XMen”': 154,\n",
       " 'beat': 161,\n",
       " 'record': 214,\n",
       " '1': 1,\n",
       " 'million': 196,\n",
       " 'views': 242,\n",
       " 'global': 181,\n",
       " 'rakes': 208,\n",
       " 'Film': 63,\n",
       " 'reviews': 217,\n",
       " 'Bryan': 35,\n",
       " 'Singers': 126,\n",
       " '“XMen': 254,\n",
       " 'Past”': 107,\n",
       " 'returns': 216,\n",
       " 'familiar': 178,\n",
       " 'franchise': 179,\n",
       " 'themes': 232,\n",
       " 'rise': 218,\n",
       " 'reaching': 209,\n",
       " 'top': 233,\n",
       " 'Weekend': 148,\n",
       " 'Wrap': 151,\n",
       " '25th': 9,\n",
       " 'KWWL': 82,\n",
       " 'Eastern': 55,\n",
       " 'Iowa': 80,\n",
       " 'Breaking': 34,\n",
       " 'movies': 199,\n",
       " 'takes': 228,\n",
       " 'records': 215,\n",
       " 'Sets': 125,\n",
       " 'Franchise': 65,\n",
       " 'Best': 25,\n",
       " '262': 12,\n",
       " 'Mil': 88,\n",
       " 'PreOrder': 111,\n",
       " 'XMEN': 152,\n",
       " 'DAYS': 46,\n",
       " 'PAST': 103,\n",
       " 'Bluray': 28,\n",
       " 'Score': 122,\n",
       " '91': 16,\n",
       " 'debut': 172,\n",
       " 'Blended': 27,\n",
       " 'Moves': 93,\n",
       " 'Thats': 138,\n",
       " 'Boy': 33,\n",
       " 'Wins': 149,\n",
       " 'Foxs': 64,\n",
       " 'Topples': 139,\n",
       " 'VIDEO': 145,\n",
       " 'Gang': 70,\n",
       " 'Towers': 140,\n",
       " 'N': 94,\n",
       " 'America': 21,\n",
       " 'Holiday': 77,\n",
       " 'Colossal': 43,\n",
       " 'opening': 204,\n",
       " 'Extinction': 58,\n",
       " 'TV': 134,\n",
       " 'Spot': 130,\n",
       " 'Released': 118,\n",
       " 'INTL': 79,\n",
       " 'BOX': 23,\n",
       " 'OFFICE': 100,\n",
       " 'FanTastic': 60,\n",
       " 'Bows': 31,\n",
       " '…': 255,\n",
       " 'Dominates': 53,\n",
       " 'Million': 89,\n",
       " '3': 13,\n",
       " 'reasons': 210,\n",
       " 'best': 164,\n",
       " 'yet': 250,\n",
       " 'gang': 180,\n",
       " 'towers': 234,\n",
       " 'North': 98,\n",
       " 'Slays': 128,\n",
       " 'Bombs': 30,\n",
       " 'DOFP': 47,\n",
       " 'Unnuked': 142,\n",
       " 'Fridge': 66,\n",
       " '“Unnuked': 253,\n",
       " 'Fridge”': 67,\n",
       " 'IBM': 78,\n",
       " 'make': 194,\n",
       " 'big': 165,\n",
       " 'accessible': 156,\n",
       " 'users': 239,\n",
       " 'via': 241,\n",
       " 'cloud': 169,\n",
       " 'Bolsters': 29,\n",
       " 'Storage': 132,\n",
       " 'Play': 108,\n",
       " 'Ups': 144,\n",
       " 'x86': 248,\n",
       " 'Hardware': 75,\n",
       " 'Portfolio': 110,\n",
       " 'shell': 223,\n",
       " 'infrastructure': 188,\n",
       " 'study': 227,\n",
       " 'Cheap': 40,\n",
       " 'Chart': 39,\n",
       " 'Cloud': 42,\n",
       " 'Exposure': 57,\n",
       " 'Concerning': 44,\n",
       " 'Launches': 84,\n",
       " 'New': 97,\n",
       " 'Systems': 133,\n",
       " 'Offerings': 101,\n",
       " 'Big': 26,\n",
       " 'Data': 48,\n",
       " 'Unveils': 143,\n",
       " 'Software': 129,\n",
       " 'Defined': 52,\n",
       " 'Era': 56,\n",
       " 'Technology': 137,\n",
       " 'GM': 69,\n",
       " 'recalls': 213,\n",
       " 'another': 158,\n",
       " '24': 5,\n",
       " 'belts': 163,\n",
       " 'bags': 159,\n",
       " 'Parade': 105,\n",
       " 'rolls': 220,\n",
       " 'vehicles': 240,\n",
       " '0': 0,\n",
       " 'Minutes': 90,\n",
       " 'Ago': 20,\n",
       " '24M': 7,\n",
       " 'Recalls': 117,\n",
       " 'Another': 22,\n",
       " '26': 10,\n",
       " 'Vehicles': 146,\n",
       " 'issues': 189,\n",
       " 'new': 200,\n",
       " 'recall': 211,\n",
       " '242': 6,\n",
       " 'Mln': 91,\n",
       " 'Sees': 123,\n",
       " 'Addl': 19,\n",
       " 'Q2': 114,\n",
       " 'Charge': 37,\n",
       " '200': 3,\n",
       " 'Hit': 76,\n",
       " 'Lansing': 83,\n",
       " 'Hard': 74,\n",
       " 'General': 71,\n",
       " 'Motors': 92,\n",
       " 'parade': 206,\n",
       " '259': 8,\n",
       " 'worldwide': 247,\n",
       " 'Business': 36,\n",
       " 'update': 238,\n",
       " 'keeps': 191,\n",
       " 'recalling': 212,\n",
       " '10': 2,\n",
       " 'largest': 192,\n",
       " 'year': 249}"
      ]
     },
     "execution_count": 24,
     "metadata": {},
     "output_type": "execute_result"
    }
   ],
   "source": [
    "\n",
    "from sklearn.feature_extraction.text import CountVectorizer\n",
    "bow_transformers = CountVectorizer(analyzer=text_cleaning).fit(df['TITLE'])\n",
    "\n",
    "# print(len(bow_transformers.vocabulary_))\n",
    "bow_transformers.vocabulary_\n"
   ]
  },
  {
   "cell_type": "code",
   "execution_count": 26,
   "metadata": {},
   "outputs": [
    {
     "name": "stdout",
     "output_type": "stream",
     "text": [
      "  (0, 61)\t1\n",
      "  (0, 167)\t1\n",
      "  (0, 171)\t1\n",
      "  (0, 202)\t1\n",
      "  (0, 221)\t1\n",
      "  (0, 224)\t1\n",
      "  (0, 229)\t1\n",
      "  (0, 243)\t1\n",
      "  (0, 244)\t1\n",
      "  (1, 38)\t1\n",
      "  (1, 62)\t1\n",
      "  (1, 109)\t1\n",
      "  (1, 160)\t1\n",
      "  (1, 168)\t1\n",
      "  (1, 183)\t1\n",
      "  (1, 205)\t1\n",
      "  (1, 222)\t1\n",
      "  (1, 230)\t1\n",
      "  (2, 61)\t1\n",
      "  (2, 131)\t1\n",
      "  (2, 141)\t1\n",
      "  (2, 155)\t1\n",
      "  (2, 176)\t1\n",
      "  (2, 184)\t1\n",
      "  (2, 202)\t1\n",
      "  :\t:\n",
      "  (60, 69)\t1\n",
      "  (60, 158)\t1\n",
      "  (60, 159)\t1\n",
      "  (60, 163)\t1\n",
      "  (60, 213)\t1\n",
      "  (60, 240)\t1\n",
      "  (61, 7)\t1\n",
      "  (61, 36)\t1\n",
      "  (61, 69)\t1\n",
      "  (61, 105)\t1\n",
      "  (61, 213)\t1\n",
      "  (61, 220)\t1\n",
      "  (61, 238)\t1\n",
      "  (61, 240)\t1\n",
      "  (62, 69)\t1\n",
      "  (62, 191)\t1\n",
      "  (62, 212)\t1\n",
      "  (62, 240)\t1\n",
      "  (63, 69)\t1\n",
      "  (63, 213)\t1\n",
      "  (64, 2)\t1\n",
      "  (64, 69)\t1\n",
      "  (64, 192)\t1\n",
      "  (64, 213)\t1\n",
      "  (64, 249)\t1\n"
     ]
    }
   ],
   "source": [
    "title_bow = bow_transformer.transform(df['TITLE'])\n",
    "\n",
    "print(title_bow)\n"
   ]
  },
  {
   "attachments": {
    "image.png": {
     "image/png": "[encoded data removed]"
    }
   },
   "cell_type": "markdown",
   "metadata": {},
   "source": [
    "![image.png](attachment:image.png)\n"
   ]
  },
  {
   "cell_type": "code",
   "execution_count": 27,
   "metadata": {},
   "outputs": [
    {
     "name": "stdout",
     "output_type": "stream",
     "text": [
      "[[0 0 0 ... 0 0 0]\n",
      " [0 0 0 ... 0 0 0]\n",
      " [0 0 0 ... 0 0 0]\n",
      " ...\n",
      " [0 0 0 ... 0 0 0]\n",
      " [0 0 0 ... 0 0 0]\n",
      " [0 0 1 ... 0 0 0]]\n"
     ]
    },
    {
     "data": {
      "text/plain": [
       "(65, 256)"
      ]
     },
     "execution_count": 27,
     "metadata": {},
     "output_type": "execute_result"
    }
   ],
   "source": [
    "X = title_bow.toarray()\n",
    "print(X)\n",
    "\n",
    "\n",
    "X.shape  # 77,257  # 257 seperate words in our dataset and 77 rows\n"
   ]
  },
  {
   "attachments": {
    "image.png": {
     "image/png": "[encoded data removed]"
    }
   },
   "cell_type": "markdown",
   "metadata": {},
   "source": [
    "![image.png](attachment:image.png)\n"
   ]
  },
  {
   "cell_type": "code",
   "execution_count": 28,
   "metadata": {},
   "outputs": [
    {
     "name": "stdout",
     "output_type": "stream",
     "text": [
      "TfidfTransformer()\n",
      "  (0, 244)\t0.35477264027465666\n",
      "  (0, 243)\t0.35477264027465666\n",
      "  (0, 229)\t0.35477264027465666\n",
      "  (0, 224)\t0.32278160612728646\n",
      "  (0, 221)\t0.32278160612728646\n",
      "  (0, 202)\t0.32278160612728646\n",
      "  (0, 171)\t0.32278160612728646\n",
      "  (0, 167)\t0.35477264027465666\n",
      "  (0, 61)\t0.28247766961965964\n",
      "  (1, 230)\t0.33258913256553785\n",
      "  (1, 222)\t0.36555219519046506\n",
      "  (1, 205)\t0.33258913256553785\n",
      "  (1, 183)\t0.36555219519046506\n",
      "  (1, 168)\t0.36555219519046506\n",
      "  (1, 160)\t0.36555219519046506\n",
      "  (1, 109)\t0.2528507396807884\n",
      "  (1, 62)\t0.29106058500399523\n",
      "  (1, 38)\t0.30920146743562676\n",
      "  (2, 230)\t0.3250877985152921\n",
      "  (2, 203)\t0.35730740045597703\n",
      "  (2, 202)\t0.3250877985152921\n",
      "  (2, 184)\t0.35730740045597703\n",
      "  (2, 176)\t0.3250877985152921\n",
      "  (2, 155)\t0.35730740045597703\n",
      "  (2, 141)\t0.3022276271355269\n",
      "  :\t:\n",
      "  (60, 213)\t0.30863342900757507\n",
      "  (60, 163)\t0.4373404919478541\n",
      "  (60, 159)\t0.4373404919478541\n",
      "  (60, 158)\t0.4373404919478541\n",
      "  (60, 69)\t0.2652884107464841\n",
      "  (60, 7)\t0.4065867120677751\n",
      "  (61, 240)\t0.28172913688096773\n",
      "  (61, 238)\t0.4387830389527568\n",
      "  (61, 220)\t0.3493685708572416\n",
      "  (61, 213)\t0.28172913688096773\n",
      "  (61, 105)\t0.37114360497648297\n",
      "  (61, 69)\t0.2421626044348431\n",
      "  (61, 36)\t0.4387830389527568\n",
      "  (61, 7)\t0.37114360497648297\n",
      "  (62, 240)\t0.38953790395898696\n",
      "  (62, 212)\t0.6066913318895633\n",
      "  (62, 191)\t0.6066913318895633\n",
      "  (62, 69)\t0.33483051981468887\n",
      "  (63, 213)\t0.7583507846117991\n",
      "  (63, 69)\t0.651846674823665\n",
      "  (64, 249)\t0.5186960446684721\n",
      "  (64, 213)\t0.3330388278379976\n",
      "  (64, 192)\t0.5186960446684721\n",
      "  (64, 69)\t0.2862662727045223\n",
      "  (64, 2)\t0.5186960446684721\n",
      "(65, 256)\n"
     ]
    }
   ],
   "source": [
    "\n",
    "# TF-IDF Algo -term frequency-inverse document frequency to know the most significant words\n",
    "\n",
    "from sklearn.feature_extraction.text import TfidfTransformer\n",
    "tfidf_transformer = TfidfTransformer().fit(title_bow)\n",
    "print(tfidf_transformer)\n",
    "\n",
    "title_tfidf = tfidf_transformer.transform(title_bow)\n",
    "print(title_tfidf)  # got tfidf values for whole vocabulary\n",
    "print(title_tfidf.shape)  # (77, 257)\n"
   ]
  },
  {
   "attachments": {
    "image.png": {
     "image/png": "[encoded data removed]"
    }
   },
   "cell_type": "markdown",
   "metadata": {},
   "source": [
    "![image.png](attachment:image.png)\n"
   ]
  },
  {
   "cell_type": "code",
   "execution_count": 30,
   "metadata": {},
   "outputs": [],
   "source": [
    "from sklearn.naive_bayes import MultinomialNB\n",
    "model = MultinomialNB().fit(title_tfidf, df['CATEGORY'])\n"
   ]
  },
  {
   "cell_type": "code",
   "execution_count": 31,
   "metadata": {},
   "outputs": [
    {
     "name": "stdout",
     "output_type": "stream",
     "text": [
      "['b' 'b' 'b' 'b' 'b' 'b' 'b' 'b' 'b' 'b' 'b' 'e' 'e' 'e' 'e' 'e' 'e' 'e'\n",
      " 'e' 'e' 'e' 'e' 'e' 'e' 'e' 'e' 'e' 'e' 'e' 'e' 'e' 'e' 'e' 'e' 'e' 'e'\n",
      " 'e' 'e' 'e' 'e' 'e' 'e' 'e' 't' 't' 't' 't' 't' 't' 't' 't' 't' 't' 't'\n",
      " 't' 't' 't' 't' 't' 't' 't' 't' 't' 't' 't']\n"
     ]
    }
   ],
   "source": [
    "all_predictions = model.predict(title_tfidf)\n",
    "print(all_predictions)\n"
   ]
  },
  {
   "cell_type": "code",
   "execution_count": 32,
   "metadata": {},
   "outputs": [
    {
     "data": {
      "text/plain": [
       "array([[11,  0,  0],\n",
       "       [ 0, 32,  0],\n",
       "       [ 0,  0, 22]], dtype=int64)"
      ]
     },
     "execution_count": 32,
     "metadata": {},
     "output_type": "execute_result"
    }
   ],
   "source": [
    "# Printing the confusion matrix of our prediction\n",
    "from sklearn.metrics import confusion_matrix\n",
    "\n",
    "confusion_matrix(df['CATEGORY'], all_predictions)\n"
   ]
  },
  {
   "cell_type": "code",
   "execution_count": null,
   "metadata": {},
   "outputs": [],
   "source": []
  }
 ],
 "metadata": {
  "kernelspec": {
   "display_name": "Python 3",
   "language": "python",
   "name": "python3"
  },
  "language_info": {
   "codemirror_mode": {
    "name": "ipython",
    "version": 3
   },
   "file_extension": ".py",
   "mimetype": "text/x-python",
   "name": "python",
   "nbconvert_exporter": "python",
   "pygments_lexer": "ipython3",
   "version": "3.10.1"
  }
 },
 "nbformat": 4,
 "nbformat_minor": 2
}
